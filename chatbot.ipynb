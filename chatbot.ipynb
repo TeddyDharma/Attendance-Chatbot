{
 "cells": [
  {
   "cell_type": "code",
   "execution_count": 3,
   "metadata": {},
   "outputs": [],
   "source": [
    "import tensorflow as tf \n",
    "import pandas as pd \n",
    "import json"
   ]
  },
  {
   "cell_type": "code",
   "execution_count": 21,
   "metadata": {},
   "outputs": [
    {
     "name": "stdout",
     "output_type": "stream",
     "text": [
      "['hari ini saya sakit jadi saya tidak ke kantor', 'saya dalam kondisi yang tidak sehat hari ini', 'saya absen sakit, bisakah anda membantu saya', 'saya tidak hadir ke kantor karena sakit', 'maaf, saya sakit hari ini', 'maaf, saat ini saya sedang tidak enak badan', 'saya tidak hadir hari ini, bisakah anda mencatat absensi saya', 'apakah anda bisa membantu saya dengan mencatatakan saya sakit di buku absen']\n"
     ]
    }
   ],
   "source": [
    "# file = open(\"./content.json\")\n",
    "# data_chat = json.load(\"./content.json\")\n",
    "num_class = 5\n",
    "with open(\"./content.json\", encoding='utf-8') as f: \n",
    "    data = json.load(f)\n",
    "    # for i in range(num_class): \n",
    "\n",
    "    # print(data['intents'][2]['input'])"
   ]
  }
 ],
 "metadata": {
  "kernelspec": {
   "display_name": "Python 3",
   "language": "python",
   "name": "python3"
  },
  "language_info": {
   "codemirror_mode": {
    "name": "ipython",
    "version": 3
   },
   "file_extension": ".py",
   "mimetype": "text/x-python",
   "name": "python",
   "nbconvert_exporter": "python",
   "pygments_lexer": "ipython3",
   "version": "3.11.2"
  }
 },
 "nbformat": 4,
 "nbformat_minor": 2
}
